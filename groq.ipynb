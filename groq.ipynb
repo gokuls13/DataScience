{
  "nbformat": 4,
  "nbformat_minor": 0,
  "metadata": {
    "colab": {
      "provenance": []
    },
    "kernelspec": {
      "name": "python3",
      "display_name": "Python 3"
    },
    "language_info": {
      "name": "python"
    }
  },
  "cells": [
    {
      "cell_type": "code",
      "execution_count": null,
      "metadata": {
        "colab": {
          "base_uri": "https://localhost:8080/"
        },
        "id": "m07XElq2QPoZ",
        "outputId": "2dd3da5b-f716-4966-c53b-b7e76a467423"
      },
      "outputs": [
        {
          "output_type": "stream",
          "name": "stdout",
          "text": [
            "Collecting groq\n",
            "  Downloading groq-0.19.0-py3-none-any.whl.metadata (15 kB)\n",
            "Requirement already satisfied: anyio<5,>=3.5.0 in /usr/local/lib/python3.11/dist-packages (from groq) (3.7.1)\n",
            "Requirement already satisfied: distro<2,>=1.7.0 in /usr/local/lib/python3.11/dist-packages (from groq) (1.9.0)\n",
            "Requirement already satisfied: httpx<1,>=0.23.0 in /usr/local/lib/python3.11/dist-packages (from groq) (0.28.1)\n",
            "Requirement already satisfied: pydantic<3,>=1.9.0 in /usr/local/lib/python3.11/dist-packages (from groq) (2.10.6)\n",
            "Requirement already satisfied: sniffio in /usr/local/lib/python3.11/dist-packages (from groq) (1.3.1)\n",
            "Requirement already satisfied: typing-extensions<5,>=4.10 in /usr/local/lib/python3.11/dist-packages (from groq) (4.12.2)\n",
            "Requirement already satisfied: idna>=2.8 in /usr/local/lib/python3.11/dist-packages (from anyio<5,>=3.5.0->groq) (3.10)\n",
            "Requirement already satisfied: certifi in /usr/local/lib/python3.11/dist-packages (from httpx<1,>=0.23.0->groq) (2025.1.31)\n",
            "Requirement already satisfied: httpcore==1.* in /usr/local/lib/python3.11/dist-packages (from httpx<1,>=0.23.0->groq) (1.0.7)\n",
            "Requirement already satisfied: h11<0.15,>=0.13 in /usr/local/lib/python3.11/dist-packages (from httpcore==1.*->httpx<1,>=0.23.0->groq) (0.14.0)\n",
            "Requirement already satisfied: annotated-types>=0.6.0 in /usr/local/lib/python3.11/dist-packages (from pydantic<3,>=1.9.0->groq) (0.7.0)\n",
            "Requirement already satisfied: pydantic-core==2.27.2 in /usr/local/lib/python3.11/dist-packages (from pydantic<3,>=1.9.0->groq) (2.27.2)\n",
            "Downloading groq-0.19.0-py3-none-any.whl (122 kB)\n",
            "\u001b[2K   \u001b[90m━━━━━━━━━━━━━━━━━━━━━━━━━━━━━━━━━━━━━━━━\u001b[0m \u001b[32m122.2/122.2 kB\u001b[0m \u001b[31m2.4 MB/s\u001b[0m eta \u001b[36m0:00:00\u001b[0m\n",
            "\u001b[?25hInstalling collected packages: groq\n",
            "Successfully installed groq-0.19.0\n"
          ]
        }
      ],
      "source": [
        "!pip install groq"
      ]
    },
    {
      "cell_type": "code",
      "source": [
        "import groq"
      ],
      "metadata": {
        "id": "QendDFiFQeAj"
      },
      "execution_count": null,
      "outputs": []
    },
    {
      "cell_type": "code",
      "source": [
        "def llm_connection(MODEL_API_KEY):\n",
        "    client = groq.Client(api_key=MODEL_API_KEY)\n",
        "    return client"
      ],
      "metadata": {
        "id": "acxK3kz8Qgxk"
      },
      "execution_count": null,
      "outputs": []
    },
    {
      "cell_type": "code",
      "source": [
        "def get_model_response(client, prompt, max_tokens=700):\n",
        "    try:\n",
        "        response = client.chat.completions.create(\n",
        "            model=\"llama-3.3-70b-Specdec\",\n",
        "            messages=[{\"role\": \"user\", \"content\": prompt}],\n",
        "            max_tokens=max_tokens\n",
        "        )\n",
        "        return response.choices[0].message.content\n",
        "    except Exception as e:\n",
        "        return f\"An error occurred: {e}\""
      ],
      "metadata": {
        "id": "mlYA_KcTQkob"
      },
      "execution_count": null,
      "outputs": []
    },
    {
      "cell_type": "code",
      "source": [
        "if __name__ == \"__main__\":\n",
        "    MODEL_API_KEY = \"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\"\n",
        "    client = llm_connection(MODEL_API_KEY)\n",
        "\n",
        "    prompt = \"write a gsql query v1 syntax to find the duplicates in the vertex attribute in Tigergraph database\"\n",
        "\n",
        "    response = get_model_response(client, prompt)\n",
        "    print(\"Model Response:\")\n",
        "    print(response)"
      ],
      "metadata": {
        "colab": {
          "base_uri": "https://localhost:8080/"
        },
        "id": "1fXxUiQYQ7lM",
        "outputId": "64cee92a-8b76-4ac6-b509-934c026028d3"
      },
      "execution_count": null,
      "outputs": [
        {
          "output_type": "stream",
          "name": "stdout",
          "text": [
            "Model Response:\n",
            "To find duplicates in a vertex attribute in a TigerGraph database using GSQL v1 syntax, you will need to write a query that checks for multiple occurrences of the same value in that attribute across all vertices of a specific type. Here's a basic structure of how you can achieve this:\n",
            "\n",
            "Let's assume you have a vertex type named `VertexType` and an attribute named `attributeName` for which you want to find duplicates.\n",
            "\n",
            "```gsql\n",
            "CREATE QUERY findDuplicates(VERTEX<VertexType> vertex) \n",
            "FOR GRAPH graph_name {\n",
            "  # Declare a map to store the count of each attribute value\n",
            "  MAP<string, int> valueCount;\n",
            "\n",
            "  # Iterate over all vertices of type VertexType\n",
            "  v = {vertex};\n",
            "  FOREACH vertex IN v DO\n",
            "    string val = vertex.attributeName;\n",
            "    IF valueCount CONTAINSKEY(val) THEN\n",
            "      valueCount[val] += 1;\n",
            "    ELSE\n",
            "      valueCount[val] = 1;\n",
            "    END;\n",
            "\n",
            "  # Find the attribute values that appear more than once\n",
            "  FOREACH key IN valueCount DO\n",
            "    IF valueCount[key] > 1 THEN\n",
            "      PRINT key + \" appears \" + TO_STRING(valueCount[key]) + \" times\";\n",
            "    END;\n",
            "  END;\n",
            "}\n",
            "```\n",
            "\n",
            "To use this query, replace `graph_name` with your actual graph name and `VertexType` with your actual vertex type name. The `attributeName` should be the attribute for which you are checking duplicates.\n",
            "\n",
            "However, note that running this query directly might not be feasible for very large graphs due to memory constraints because it tries to load all vertices into memory at once. A more scalable approach would involve a distributed computation that TigerGraph's GSQL can handle well, but this involves a bit more complex logic and data structures, leveraging accumulators and distributed computation principles built into TigerGraph.\n",
            "\n",
            "Here's a more advanced version that directly prints out the IDs of vertices that are duplicates based on an attribute. This example is more tailored to how TigerGraph handles data distribution:\n",
            "\n",
            "```gsql\n",
            "CREATE QUERY findDuplicates(VERTEX<VertexType> v) \n",
            "FOR GRAPH graph_name {\n",
            "  # Declare a map to store the list of vertex IDs for each attribute value\n",
            "  MAP<string, SET<string>> valueVertices;\n",
            "\n",
            "  # Iterate over all vertices of type VertexType\n",
            "  FOREACH vertex IN {v} DO\n",
            "    string val = vertex.attributeName;\n",
            "    IF valueVertices CONTAINSKEY(val) THEN\n",
            "      valueVertices[val].ADD(vertex.id);\n",
            "    ELSE\n",
            "      valueVertices[val] = SET{vertex.id};\n",
            "    END;\n",
            "  END;\n",
            "\n",
            "  # Find the attribute values that have more than one vertex\n",
            "  FOREACH key IN valueVertices DO\n",
            "    IF valueVertices[key].SIZE() > 1 THEN\n",
            "      PRINT \"Duplicate attribute value: \" + key;\n",
            "      FOREACH vid IN valueVertices[key] DO\n",
            "        PRINT \"  Vertex ID: \" + vid;\n",
            "      END;\n",
            "    END;\n",
            "  END;\n",
            "}\n",
            "```\n",
            "\n",
            "Remember, GSQL is optimized for distributed graph queries, so it's designed to scale with your data size. However, the exact implementation may vary depending on the specifics of your use case and performance considerations.\n"
          ]
        }
      ]
    }
  ]
}