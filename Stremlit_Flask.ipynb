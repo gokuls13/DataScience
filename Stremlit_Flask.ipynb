{
  "nbformat": 4,
  "nbformat_minor": 0,
  "metadata": {
    "colab": {
      "provenance": []
    },
    "kernelspec": {
      "name": "python3",
      "display_name": "Python 3"
    },
    "language_info": {
      "name": "python"
    }
  },
  "cells": [
    {
      "cell_type": "code",
      "execution_count": null,
      "metadata": {
        "colab": {
          "base_uri": "https://localhost:8080/"
        },
        "id": "E87T2t8UtR9W",
        "outputId": "19bcd96f-91aa-491e-8629-26a08ae5597c"
      },
      "outputs": [
        {
          "output_type": "stream",
          "name": "stdout",
          "text": [
            "\u001b[2K     \u001b[90m━━━━━━━━━━━━━━━━━━━━━━━━━━━━━━━━━━━━━━━━\u001b[0m \u001b[32m44.3/44.3 kB\u001b[0m \u001b[31m3.2 MB/s\u001b[0m eta \u001b[36m0:00:00\u001b[0m\n",
            "\u001b[2K   \u001b[90m━━━━━━━━━━━━━━━━━━━━━━━━━━━━━━━━━━━━━━━━\u001b[0m \u001b[32m9.9/9.9 MB\u001b[0m \u001b[31m44.3 MB/s\u001b[0m eta \u001b[36m0:00:00\u001b[0m\n",
            "\u001b[2K   \u001b[90m━━━━━━━━━━━━━━━━━━━━━━━━━━━━━━━━━━━━━━━━\u001b[0m \u001b[32m6.9/6.9 MB\u001b[0m \u001b[31m47.9 MB/s\u001b[0m eta \u001b[36m0:00:00\u001b[0m\n",
            "\u001b[2K   \u001b[90m━━━━━━━━━━━━━━━━━━━━━━━━━━━━━━━━━━━━━━━━\u001b[0m \u001b[32m79.1/79.1 kB\u001b[0m \u001b[31m6.8 MB/s\u001b[0m eta \u001b[36m0:00:00\u001b[0m\n",
            "\u001b[?25h"
          ]
        }
      ],
      "source": [
        "!pip install flask-ngrok streamlit pyngrok scikit-learn --quiet\n"
      ]
    },
    {
      "cell_type": "code",
      "source": [
        "from sklearn.datasets import load_iris\n",
        "from sklearn.linear_model import LogisticRegression\n",
        "import joblib\n",
        "\n",
        "X, y = load_iris(return_X_y=True)\n",
        "model = LogisticRegression(max_iter=200)\n",
        "model.fit(X, y)\n",
        "\n",
        "joblib.dump(model, 'iris_model.pkl')\n"
      ],
      "metadata": {
        "colab": {
          "base_uri": "https://localhost:8080/"
        },
        "id": "_YBFRL1QtoSQ",
        "outputId": "013d54d8-49c0-4c4c-b430-fa4e639cd32d"
      },
      "execution_count": null,
      "outputs": [
        {
          "output_type": "execute_result",
          "data": {
            "text/plain": [
              "['iris_model.pkl']"
            ]
          },
          "metadata": {},
          "execution_count": 37
        }
      ]
    },
    {
      "cell_type": "code",
      "source": [
        "%%writefile backend.py\n",
        "from flask import Flask, request, jsonify\n",
        "import joblib\n",
        "import numpy as np\n",
        "\n",
        "app = Flask(__name__)\n",
        "model = joblib.load(\"iris_model.pkl\")\n",
        "\n",
        "@app.route('/predict', methods=['POST'])\n",
        "def predict():\n",
        "    data = request.get_json()\n",
        "    features = np.array(data['features']).reshape(1, -1)\n",
        "    prediction = model.predict(features)[0]\n",
        "    return jsonify({'prediction': int(prediction)})\n"
      ],
      "metadata": {
        "colab": {
          "base_uri": "https://localhost:8080/"
        },
        "id": "y72SOe9qtoOx",
        "outputId": "8567fafb-5ec2-4472-e3e4-a84e03712649"
      },
      "execution_count": null,
      "outputs": [
        {
          "output_type": "stream",
          "name": "stdout",
          "text": [
            "Overwriting backend.py\n"
          ]
        }
      ]
    },
    {
      "cell_type": "code",
      "source": [
        "from pyngrok import ngrok\n",
        "\n",
        "# Replace with your actual token\n",
        "!ngrok config add-authtoken 2wXxfueSp56O25PLYNWXQVweS6G_4c16PAsbg7i4WY8zvzL61\n"
      ],
      "metadata": {
        "colab": {
          "base_uri": "https://localhost:8080/"
        },
        "id": "_CHgpdcPvu5W",
        "outputId": "ce8c1054-bdee-4a66-bd56-cdbe3ad3b2b8"
      },
      "execution_count": null,
      "outputs": [
        {
          "output_type": "stream",
          "name": "stdout",
          "text": [
            "Authtoken saved to configuration file: /root/.config/ngrok/ngrok.yml\n"
          ]
        }
      ]
    },
    {
      "cell_type": "code",
      "source": [
        "from pyngrok import ngrok\n",
        "import backend\n",
        "import threading\n",
        "\n",
        "# Start Flask server in thread\n",
        "threading.Thread(target=lambda: backend.app.run(port=5000)).start()\n",
        "\n",
        "# Open ngrok tunnel to port 5000 (Flask)\n",
        "flask_url = ngrok.connect(5000)\n",
        "print(\"Flask API URL:\", flask_url)\n"
      ],
      "metadata": {
        "colab": {
          "base_uri": "https://localhost:8080/"
        },
        "id": "A8NDiksWtoMI",
        "outputId": "fb2e72c2-3f4a-4372-9fb8-56f73ef25225"
      },
      "execution_count": null,
      "outputs": [
        {
          "output_type": "stream",
          "name": "stdout",
          "text": [
            " * Serving Flask app 'backend'\n",
            " * Debug mode: off\n",
            "✅ Flask API URL: NgrokTunnel: \"https://4d74-34-16-185-245.ngrok-free.app\" -> \"http://localhost:5000\"\n"
          ]
        },
        {
          "output_type": "stream",
          "name": "stderr",
          "text": [
            "Address already in use\n",
            "Port 5000 is in use by another program. Either identify and stop that program, or start the server with a different port.\n"
          ]
        }
      ]
    },
    {
      "cell_type": "code",
      "source": [
        "%%writefile app.py\n",
        "import streamlit as st\n",
        "import requests\n",
        "\n",
        "st.title(\"Iris Flower Classifier (via Flask API)\")\n",
        "\n",
        "sepal_length = st.slider(\"Sepal Length\", 4.0, 8.0)\n",
        "sepal_width = st.slider(\"Sepal Width\", 2.0, 4.5)\n",
        "petal_length = st.slider(\"Petal Length\", 1.0, 7.0)\n",
        "petal_width = st.slider(\"Petal Width\", 0.1, 2.5)\n",
        "\n",
        "if st.button(\"Predict\"):\n",
        "    features = [sepal_length, sepal_width, petal_length, petal_width]\n",
        "    res = requests.post(\n",
        "        \"https://4d74-34-16-185-245.ngrok-free.app/predict\",  # ← CHANGE this to your actual Flask ngrok URL\n",
        "        json={\"features\": features}\n",
        "    )\n",
        "    if res.status_code == 200:\n",
        "        prediction = res.json()[\"prediction\"]\n",
        "        st.success(f\"Predicted class: {prediction}\")\n",
        "    else:\n",
        "        st.error(\"Failed to get prediction from backend.\")\n"
      ],
      "metadata": {
        "colab": {
          "base_uri": "https://localhost:8080/"
        },
        "id": "K761m9_otoJn",
        "outputId": "08c8eabe-0ee8-4e72-e153-28e7635dd7dc"
      },
      "execution_count": null,
      "outputs": [
        {
          "output_type": "stream",
          "name": "stdout",
          "text": [
            "Overwriting app.py\n"
          ]
        }
      ]
    },
    {
      "cell_type": "code",
      "source": [
        "# Start Streamlit and expose via ngrok\n",
        "!nohup streamlit run app.py &>/dev/null &\n",
        "public_url = ngrok.connect(8501)\n",
        "print(\" Streamlit app URL:\", public_url)\n"
      ],
      "metadata": {
        "colab": {
          "base_uri": "https://localhost:8080/"
        },
        "id": "E-0QIAdbtoEk",
        "outputId": "56796c67-7d35-45b0-ca2e-d629afdd5895"
      },
      "execution_count": null,
      "outputs": [
        {
          "output_type": "stream",
          "name": "stdout",
          "text": [
            "Streamlit app URL: NgrokTunnel: \"https://7cf1-34-16-185-245.ngrok-free.app\" -> \"http://localhost:8501\"\n"
          ]
        }
      ]
    },
    {
      "cell_type": "code",
      "source": [],
      "metadata": {
        "id": "Z3Isd5l0tn_N"
      },
      "execution_count": null,
      "outputs": []
    },
    {
      "cell_type": "code",
      "source": [],
      "metadata": {
        "id": "8xguzS6Stn8W"
      },
      "execution_count": null,
      "outputs": []
    },
    {
      "cell_type": "code",
      "source": [],
      "metadata": {
        "id": "Q-237p2rtn58"
      },
      "execution_count": null,
      "outputs": []
    }
  ]
}
